{
 "metadata": {
  "name": "skyline_problem"
 },
 "nbformat": 3,
 "nbformat_minor": 0,
 "worksheets": [
  {
   "cells": [
    {
     "cell_type": "markdown",
     "metadata": {},
     "source": [
      "# Skyline problem\n",
      "source: http://uva.onlinejudge.org/external/1/105.html\n",
      "\n"
     ]
    },
    {
     "cell_type": "code",
     "collapsed": false,
     "input": [
      "def group_by(s, interval):\n",
      "    ''' Groups 's' into subgroups of length 'interval' '''\n",
      "    groups = []\n",
      "    for i in range(0, len(s), interval):\n",
      "        t = s[i:] if i+3>len(s) else s[i: i+interval]\n",
      "        groups.append(t)\n",
      "    return groups\n",
      "\n",
      "\n",
      "class heightMap(object):\n",
      "    def __init__(self, input):\n",
      "        self.input = input\n",
      "        \n",
      "    def getmap(self):\n",
      "        ''' \n",
      "        Builds the map of the skyline \n",
      "        #############################\n",
      "\n",
      "        To solve the problem, I needed \n",
      "        to consider a scale with halves:\n",
      "        0 0.5 1.0 1.5 ...\n",
      "        (This is used to find the spaces\n",
      "        between adjacent buildings.) \n",
      "        '''\n",
      "        \n",
      "        # Length of the skyline\n",
      "        skylineLen = max(map(lambda x: x[2], self.input))\n",
      "\n",
      "        # Place-holder for the skyline\n",
      "        # For now on, we use a double scale to consider \n",
      "        # the halves of the units.\n",
      "        skyline = [0 for i in range((skylineLen+1)*2)]  \n",
      "        \n",
      "        # Sorting the input will let me start working my way up \n",
      "        # starting with smaller buildings, so I can build a linear\n",
      "        # map of the heights of the skyline\n",
      "        sortedInput = sorted(self.input, key=lambda x: x[1], reverse=False)\n",
      "        for x0, h, x1 in sortedInput:\n",
      "            for x in range(2*x0, 2*(x1)+1):\n",
      "                skyline[x] = h\n",
      "    \n",
      "        # Last step to put the skyline into the expected format\n",
      "        height = 0\n",
      "        stack = []\n",
      "        for i, v in enumerate(skyline):\n",
      "            posx, h = (i, v)\n",
      "            if h > height:        \n",
      "                stack.append((i, h))\n",
      "            elif h < height:\n",
      "                stack.append((i-1, h))\n",
      "            height = h                    \n",
      "        \n",
      "        # To convert the double scale toa simple unitary scale\n",
      "        r = map(lambda x: (x[0]/2, x[1]), stack)\n",
      "        \n",
      "        # To flatten the array\n",
      "        rr = [i for rr in r for i in rr] \n",
      "        return rr\n",
      "\n",
      "        \n",
      "input = [(1,11,5), (2,6,7), (3,13,9), (12,7,16), (14,3,25), (19,18,22), (23,13,29), (24,4,28)]\n",
      "output = [1, 11, 3, 13, 9, 0, 12, 7, 16, 3, 19, 18, 22, 3, 23, 13, 29, 0]\n",
      "\n",
      "hm = heightMap(input)\n",
      "assert hm.getmap() == output"
     ],
     "language": "python",
     "metadata": {},
     "outputs": [],
     "prompt_number": 193
    }
   ],
   "metadata": {}
  }
 ]
}