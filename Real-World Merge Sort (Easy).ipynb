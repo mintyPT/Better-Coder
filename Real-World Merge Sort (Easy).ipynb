{
 "metadata": {
  "name": "Real-World Merge Sort (Easy)"
 },
 "nbformat": 3,
 "nbformat_minor": 0,
 "worksheets": [
  {
   "cells": [
    {
     "cell_type": "markdown",
     "metadata": {},
     "source": [
      "http://www.reddit.com/r/dailyprogrammer/comments/1epasu/052013_challenge_126_easy_realworld_merge_sort/?utm_source=feedly"
     ]
    },
    {
     "cell_type": "code",
     "collapsed": false,
     "input": [
      "A = [692, 1, 32]\n",
      "B = [0, 0, 0, 14, 15, 123, 2431]\n",
      "\n",
      "for na in A:\n",
      "    for i in range(len(B)):\n",
      "        if B[i]>na:\n",
      "            for j in range(0, i-1):\n",
      "                B[j] = B[j+1]\n",
      "            B[i-1] = na\n",
      "            break\n",
      "            \n",
      "output = [1, 14, 15, 32, 123, 692, 2431]\n",
      "\n",
      "assert B == output"
     ],
     "language": "python",
     "metadata": {},
     "outputs": [],
     "prompt_number": 36
    }
   ],
   "metadata": {}
  }
 ]
}